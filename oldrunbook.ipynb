{
 "cells": [
  {
   "cell_type": "code",
   "execution_count": 2,
   "metadata": {},
   "outputs": [
    {
     "name": "stdout",
     "output_type": "stream",
     "text": [
      "True\n"
     ]
    },
    {
     "name": "stderr",
     "output_type": "stream",
     "text": [
      "/Users/joshgoldstein/miniconda3/envs/tools/lib/python3.12/site-packages/weaviate/warnings.py:329: ResourceWarning: Con004: The connection to Weaviate was not closed properly. This can lead to memory leaks.\n",
      "            Please make sure to close the connection using `client.close()`.\n",
      "  warnings.warn(\n"
     ]
    }
   ],
   "source": [
    "import weaviate\n",
    "from weaviate.classes.config import Property, DataType\n",
    "from weaviate.connect import ConnectionParams\n",
    "from weaviate.classes.init import AdditionalConfig, Timeout\n",
    "import weaviate.classes.config as wc\n",
    "import json\n",
    "import os\n",
    "from datetime import datetime\n",
    "from dotenv import load_dotenv\n",
    "from setup.client import get_weaviate_client\n",
    "\n",
    "\n",
    "load_dotenv()\n",
    "\n",
    "collection_name = \"HarryPotter\"\n",
    "\n",
    "OPENAI_API_KEY = os.getenv(\"OPENAI_API_KEY\")\n",
    "WCS_URL = os.getenv(\"WCS_URL\")\n",
    "WCS_API_KEY = os.getenv(\"WCS_API_KEY\")\n",
    "USE_WCS = os.getenv(\"USE_WCS\")\n",
    "\n",
    "client = weaviate.connect_to_wcs(\n",
    "        cluster_url=WCS_URL,\n",
    "        auth_credentials=weaviate.auth.AuthApiKey(WCS_API_KEY),\n",
    "        headers={\n",
    "            \"X-OpenAI-Api-Key\": OPENAI_API_KEY\n",
    "        }\n",
    "    )\n",
    "\n",
    "# Import OpenAi API Key\n",
    "print(client.is_ready())\n",
    "\n",
    "# client.collections.delete(collection_name)\n",
    "\n",
    "\n",
    "# collection = client.collections.create(\n",
    "#     collection_name,\n",
    "#     properties=[\n",
    "#         Property(name=\"question\", data_type=DataType.TEXT),\n",
    "#         Property(name=\"new_property\", data_type=DataType.TEXT),\n",
    "#     ],\n",
    "#     vectorizer_config=wc.Configure.Vectorizer.text2vec_openai(),\n",
    "#     generative_config=wc.Configure.Generative.openai()\n",
    "# )\n",
    "\n",
    "collection = client.collections.get(collection_name)\n"
   ]
  },
  {
   "cell_type": "code",
   "execution_count": 4,
   "metadata": {},
   "outputs": [
    {
     "name": "stdout",
     "output_type": "stream",
     "text": [
      "HarryPotter\n"
     ]
    },
    {
     "name": "stderr",
     "output_type": "stream",
     "text": [
      "/Users/joshgoldstein/miniconda3/envs/tools/lib/python3.12/pty.py:95: DeprecationWarning: This process (pid=36585) is multi-threaded, use of forkpty() may lead to deadlocks in the child.\n",
      "  pid, fd = os.forkpty()\n"
     ]
    }
   ],
   "source": [
    "!echo $COLLECTION_NAME\n"
   ]
  },
  {
   "cell_type": "code",
   "execution_count": 15,
   "metadata": {},
   "outputs": [],
   "source": [
    "client.close()"
   ]
  },
  {
   "cell_type": "markdown",
   "metadata": {},
   "source": [
    "### View the fields in the collection configuration"
   ]
  },
  {
   "cell_type": "code",
   "execution_count": null,
   "metadata": {},
   "outputs": [],
   "source": [
    "collection_config = collection.config.get()\n",
    "for property in collection_config.properties:\n",
    "    print(f\"Field Name: '{property.name}' with type {property.data_type}\")\n",
    "\n",
    "# print(json.dumps(collection_config.to_dict(), indent=2))"
   ]
  },
  {
   "cell_type": "markdown",
   "metadata": {},
   "source": [
    "### Run a search"
   ]
  },
  {
   "cell_type": "code",
   "execution_count": null,
   "metadata": {},
   "outputs": [],
   "source": [
    "# Example query\n",
    "import weaviate.classes as wvc\n",
    "from weaviate.classes.query import Filter\n",
    "\n",
    "\n",
    "query = \"what are quotes harry says to the dursleies in chapter two\"\n",
    "\n",
    "response = collection.query.fetch_objects(\n",
    "    limit=10,\n",
    "    return_metadata=wvc.query.MetadataQuery(distance=True),\n",
    "    # filters=Filter.by_property(\"fighters\").equal(\"Anakin Skywalke\"),\n",
    "\n",
    ")\n",
    "\n",
    "print(response)\n",
    "# Process and print the response\n",
    "for o in response.objects:\n",
    "    print(\"-----Result------\")\n",
    "    print(json.dumps(o.properties, indent=2))"
   ]
  },
  {
   "cell_type": "code",
   "execution_count": null,
   "metadata": {},
   "outputs": [],
   "source": [
    "# Example query\n",
    "import weaviate.classes as wvc\n",
    "from weaviate.classes.query import Filter\n",
    "\n",
    "\n",
    "query = \"what are quotes harry says to the dursly\"\n",
    "\n",
    "response = collection.query.hybrid(\n",
    "    limit=10,\n",
    "    query=query,\n",
    "    return_metadata=wvc.query.MetadataQuery(score=True,explain_score=True),\n",
    "    # filters=Filter.by_property(\"fighters\").equal(\"Anakin Skywalke\"),\n",
    "\n",
    ")\n",
    "\n",
    "print(response)\n",
    "# Process and print the response\n",
    "for o in response.objects:\n",
    "    print(\"-----Result------\")\n",
    "    print(f\"Chapter: {o.properties['chapter_num']}\") \n",
    "    print(f\"Chunk Index: {o.properties['chunk_index']}\")\n",
    "    print(f\"Content: {o.properties['content']}\")\n",
    "    print(f\"Score: {o.metadata.score}\")\n",
    "    print(f\"Explain: {o.metadata.explain_score}\")"
   ]
  },
  {
   "cell_type": "code",
   "execution_count": null,
   "metadata": {},
   "outputs": [],
   "source": [
    "import time\n",
    "from datetime import datetime\n",
    "\n",
    "def run_timed_query(collection, query, filters=None, limit=3):\n",
    "    \"\"\"\n",
    "    Run a hybrid query with timing metrics and optional filters\n",
    "    \n",
    "    Args:\n",
    "        collection: Weaviate collection\n",
    "        query (str): Search query\n",
    "        filters: Optional query filters (default: None)\n",
    "        limit (int): Number of results to return\n",
    "    \n",
    "    Returns:\n",
    "        dict: Results and timing information\n",
    "    \"\"\"\n",
    "    start_time = time.perf_counter()\n",
    "    query_config = {\n",
    "        \"query\": query,\n",
    "        \"limit\": limit,\n",
    "        \"return_metadata\": wvc.query.MetadataQuery(distance=True)\n",
    "    }\n",
    "    \n",
    "    # Only add filters if they're provided\n",
    "    if filters is not None:\n",
    "        query_config[\"filters\"] = filters\n",
    "    \n",
    "    try:\n",
    "        response = collection.query.hybrid(**query_config)\n",
    "        \n",
    "        end_time = time.perf_counter()\n",
    "        execution_time = (end_time - start_time) * 1000  # Convert to milliseconds\n",
    "        \n",
    "        timing_info = {\n",
    "            \"query_text\": query,\n",
    "            \"filters_used\": filters is not None,\n",
    "            \"execution_time_ms\": round(execution_time, 2),\n",
    "            \"timestamp\": datetime.now().isoformat(),\n",
    "            \"num_results\": len(response.objects) if hasattr(response, 'objects') else 0\n",
    "        }\n",
    "        \n",
    "        return {\n",
    "            \"timing\": timing_info,\n",
    "            \"response\": response\n",
    "        }\n",
    "        \n",
    "    except Exception as e:\n",
    "        end_time = time.perf_counter()\n",
    "        execution_time = (end_time - start_time) * 1000\n",
    "        \n",
    "        return {\n",
    "            \"timing\": {\n",
    "                \"query_text\": query,\n",
    "                \"filters_used\": filters is not None,\n",
    "                \"execution_time_ms\": round(execution_time, 2),\n",
    "                \"timestamp\": datetime.now().isoformat(),\n",
    "                \"error\": str(e)\n",
    "            },\n",
    "            \"response\": None\n",
    "        }\n",
    "\n",
    "# Example usage:\n",
    "\n",
    "# Without filters\n",
    "result = run_timed_query(collection, \"duels with force lightning\")\n",
    "print(f\"Query without filters took {result['timing']['execution_time_ms']}ms\")\n",
    "\n",
    "# With filters\n",
    "filters = Filter.by_property(\"fighters\").equal(\"Anakin Skywalker\")\n",
    "result_with_filters = run_timed_query(collection, \"duels with force lightning\", filters=filters)\n",
    "print(f\"Query with filters took {result_with_filters['timing']['execution_time_ms']}ms\")\n",
    "\n",
    "# Compare multiple queries with and without filters\n",
    "test_queries = [\n",
    "    \"duels in industrial settings\",\n",
    "    \"fights between masters and apprentices\"\n",
    "]\n",
    "\n",
    "for query in test_queries:\n",
    "    # Without filters\n",
    "    result = run_timed_query(collection, query)\n",
    "    print(f\"\\nQuery: {query}\")\n",
    "    print(f\"Without filters - Time: {result['timing']['execution_time_ms']}ms\")\n",
    "    print(f\"Results found: {result['timing']['num_results']}\")\n",
    "    \n",
    "    # With filters\n",
    "    result_filtered = run_timed_query(collection, query, filters=filters)\n",
    "    print(f\"With filters - Time: {result_filtered['timing']['execution_time_ms']}ms\")\n",
    "    print(f\"Results found: {result_filtered['timing']['num_results']}\")\n"
   ]
  },
  {
   "cell_type": "markdown",
   "metadata": {},
   "source": [
    "### Insert a second document with a field undefined in the collection configuration\n",
    "\n",
    "```\n",
    "answer\n",
    "dynamic\n",
    "```"
   ]
  },
  {
   "cell_type": "code",
   "execution_count": null,
   "metadata": {},
   "outputs": [],
   "source": [
    "uuid = collection.data.insert({\n",
    "    \"question\": \"What is the meaning of life\",\n",
    "    # \"answer\": \"Weaviate\",  # properties can be omitted\n",
    "    \"new_property\": \"42\",\n",
    "})\n",
    "\n",
    "print(uuid)  # the return value is the object's UUID"
   ]
  },
  {
   "cell_type": "markdown",
   "metadata": {},
   "source": [
    "### View the updated fields list in the collection configuration"
   ]
  },
  {
   "cell_type": "code",
   "execution_count": null,
   "metadata": {},
   "outputs": [],
   "source": [
    "collection_config = collection.config.get()\n",
    "for property in collection_config.properties:\n",
    "    print(f\"Field Name: '{property.name}' with type {property.data_type}\")\n",
    "\n",
    "print(json.dumps(collection_config.to_dict(), indent=2))"
   ]
  },
  {
   "cell_type": "code",
   "execution_count": null,
   "metadata": {},
   "outputs": [],
   "source": [
    "# Example query\n",
    "response = collection.query.hybrid(\n",
    "    query=\"property\", \n",
    "    limit=3\n",
    ")\n",
    "\n",
    "print(response)\n",
    "# Process and print the response\n",
    "for o in response.objects:\n",
    "    print(json.dumps(o.properties, indent=2))"
   ]
  },
  {
   "cell_type": "code",
   "execution_count": null,
   "metadata": {},
   "outputs": [],
   "source": []
  }
 ],
 "metadata": {
  "kernelspec": {
   "display_name": "tools",
   "language": "python",
   "name": "python3"
  },
  "language_info": {
   "codemirror_mode": {
    "name": "ipython",
    "version": 3
   },
   "file_extension": ".py",
   "mimetype": "text/x-python",
   "name": "python",
   "nbconvert_exporter": "python",
   "pygments_lexer": "ipython3",
   "version": "3.12.4"
  }
 },
 "nbformat": 4,
 "nbformat_minor": 2
}
